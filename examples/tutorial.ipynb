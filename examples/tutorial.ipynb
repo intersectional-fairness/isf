{
 "cells": [
  {
   "attachments": {},
   "cell_type": "markdown",
   "id": "cb83dd63",
   "metadata": {},
   "source": [
    "# Tutorial\n",
    "## See the effect of Intersectional Fairness (ISF) technology with RejectOptionClassification and AdultDataset\n",
    "In this tutorial, we will detect the intersectional bias of the AdultDataset, improve the intersectional fairness with ISF, and demonstrate its effectiveness.  \n",
    "While ISF supports several mitigation methods, we now select RejectOptionClassification (ROC) and extend it for intersectional fairness.  \n",
    "We will also compare ISF with ROC to explain ISF is suitable for retaining intersectional fairness."
   ]
  },
  {
   "attachments": {},
   "cell_type": "markdown",
   "id": "6f7b1448",
   "metadata": {},
   "source": [
    "#### RejectOptionClassification\n",
    "Reject option classification is a postprocessing technique that gives favorable outcomes to unpriviliged groups and unfavorable outcomes to priviliged groups in a confidence band around the decision boundary with the highest uncertainty.\n",
    "\n",
    "References.  \n",
    "F. Kamiran, A. Karim, and X. Zhang, “Decision Theory for Discrimination-Aware Classification,” IEEE International Conference on Data Mining, 2012."
   ]
  },
  {
   "cell_type": "code",
   "execution_count": 1,
   "id": "61f434b3",
   "metadata": {},
   "outputs": [],
   "source": [
    "%matplotlib inline\n"
   ]
  },
  {
   "cell_type": "code",
   "execution_count": 2,
   "id": "ece30760",
   "metadata": {},
   "outputs": [],
   "source": [
    "from pylab import rcParams\n"
   ]
  },
  {
   "cell_type": "code",
   "execution_count": 3,
   "id": "f0a4d370",
   "metadata": {},
   "outputs": [],
   "source": [
    "from isf.core.intersectional_fairness import IntersectionalFairness\n",
    "from isf.utils.common import output_subgroup_metrics, convert_labels, create_multi_group_label\n",
    "from isf.analysis.intersectional_bias import calc_intersectionalbias, plot_intersectionalbias_compare\n",
    "from isf.analysis.metrics import check_metrics_combination_attribute, check_metrics_single_attribute\n"
   ]
  },
  {
   "cell_type": "code",
   "execution_count": 4,
   "id": "4fd1a618",
   "metadata": {},
   "outputs": [],
   "source": [
    "import numpy as np\n",
    "import pandas as pd\n"
   ]
  },
  {
   "attachments": {},
   "cell_type": "markdown",
   "id": "d24d6739",
   "metadata": {},
   "source": [
    "## Set up AdultDataset\n",
    "Download AdultDataset that AIF360 utilizes.  \n",
    "Note: To download it manually, follow [README.md in AIF360](https://github.com/Trusted-AI/AIF360/tree/master/aif360/data) to install the data set.  "
   ]
  },
  {
   "cell_type": "code",
   "execution_count": 5,
   "id": "b9f55b25",
   "metadata": {},
   "outputs": [
    {
     "name": "stdout",
     "output_type": "stream",
     "text": [
      "  % Total    % Received % Xferd  Average Speed   Time    Time     Time  Current\n",
      "                                 Dload  Upload   Total   Spent    Left  Speed\n",
      "100 3881k  100 3881k    0     0  1159k      0  0:00:03  0:00:03 --:--:-- 1159k\n"
     ]
    }
   ],
   "source": [
    "!curl -O https://archive.ics.uci.edu/ml/machine-learning-databases/adult/adult.data\n"
   ]
  },
  {
   "cell_type": "code",
   "execution_count": 6,
   "id": "f6461b28",
   "metadata": {},
   "outputs": [
    {
     "name": "stdout",
     "output_type": "stream",
     "text": [
      "  % Total    % Received % Xferd  Average Speed   Time    Time     Time  Current\n",
      "                                 Dload  Upload   Total   Spent    Left  Speed\n",
      "100 1956k  100 1956k    0     0  1044k      0  0:00:01  0:00:01 --:--:-- 1044k\n"
     ]
    }
   ],
   "source": [
    "!curl -O https://archive.ics.uci.edu/ml/machine-learning-databases/adult/adult.test\n"
   ]
  },
  {
   "cell_type": "code",
   "execution_count": 7,
   "id": "21b71a23",
   "metadata": {},
   "outputs": [
    {
     "name": "stdout",
     "output_type": "stream",
     "text": [
      "  % Total    % Received % Xferd  Average Speed   Time    Time     Time  Current\n",
      "                                 Dload  Upload   Total   Spent    Left  Speed\n",
      "100  5229  100  5229    0     0  10962      0 --:--:-- --:--:-- --:--:-- 10962\n"
     ]
    }
   ],
   "source": [
    "!curl -O https://archive.ics.uci.edu/ml/machine-learning-databases/adult/adult.names\n"
   ]
  },
  {
   "cell_type": "code",
   "execution_count": 8,
   "id": "d453884e",
   "metadata": {},
   "outputs": [],
   "source": [
    "!mv adult* /usr/local/lib/python3.7/dist-packages/aif360/data/raw/adult\n"
   ]
  },
  {
   "cell_type": "code",
   "execution_count": 9,
   "id": "c6258781",
   "metadata": {},
   "outputs": [],
   "source": [
    "from aif360.datasets import AdultDataset\n"
   ]
  },
  {
   "cell_type": "code",
   "execution_count": 10,
   "id": "55ccad01",
   "metadata": {},
   "outputs": [
    {
     "name": "stderr",
     "output_type": "stream",
     "text": [
      "WARNING:root:Missing Data: 3620 rows removed from AdultDataset.\n"
     ]
    }
   ],
   "source": [
    "dataset = AdultDataset()\n",
    "convert_labels(dataset)\n",
    "ds_train, ds_test = dataset.split([0.7])\n"
   ]
  },
  {
   "attachments": {},
   "cell_type": "markdown",
   "id": "bc8d7f02",
   "metadata": {},
   "source": [
    "### Ensure what attributes are protected  \n",
    "To verify intersectional bias, you need to specify two attributes in the Dataset as protected ones.  \n",
    "AdultDataset has already specified the following two attributes as protected:  "
   ]
  },
  {
   "cell_type": "code",
   "execution_count": 11,
   "id": "c5c26fd4",
   "metadata": {},
   "outputs": [
    {
     "data": {
      "text/plain": [
       "['race', 'sex']"
      ]
     },
     "execution_count": 11,
     "metadata": {},
     "output_type": "execute_result"
    }
   ],
   "source": [
    "dataset.protected_attribute_names\n"
   ]
  },
  {
   "attachments": {},
   "cell_type": "markdown",
   "id": "1aaea4b3",
   "metadata": {},
   "source": [
    "## Classification  \n",
    "You first build a classification model since ROC is of type postprocessing.  \n",
    "In concrete, train a Logistic Regression model with data ds_train, then proceed with classification for data ds_test.  "
   ]
  },
  {
   "cell_type": "code",
   "execution_count": 12,
   "id": "5a9a4b91",
   "metadata": {},
   "outputs": [],
   "source": [
    "from sklearn.preprocessing import StandardScaler\n",
    "\n",
    "scale_orig = StandardScaler()\n",
    "X_train = scale_orig.fit_transform(ds_train.features)\n",
    "y_train = ds_train.labels.ravel()\n",
    "X_test = scale_orig.transform(ds_test.features)\n",
    "Y_test = ds_test.labels.ravel()\n"
   ]
  },
  {
   "cell_type": "code",
   "execution_count": 13,
   "id": "81f3684e",
   "metadata": {},
   "outputs": [
    {
     "data": {
      "text/plain": [
       "LogisticRegression()"
      ]
     },
     "execution_count": 13,
     "metadata": {},
     "output_type": "execute_result"
    }
   ],
   "source": [
    "from sklearn.linear_model import LogisticRegression\n",
    "\n",
    "lr = LogisticRegression()\n",
    "lr.fit(X_train, y_train)\n"
   ]
  },
  {
   "cell_type": "code",
   "execution_count": 14,
   "id": "eb262b92",
   "metadata": {},
   "outputs": [],
   "source": [
    "ds_test_classified = ds_test.copy()\n",
    "pos_ind = np.where(lr.classes_ == ds_train.favorable_label)[0][0]\n",
    "\n",
    "ds_test_classified.scores = lr.predict_proba(X_test)[:, pos_ind].reshape(-1, 1)\n",
    "ds_test_classified.labels = lr.predict(X_test).reshape(-1, 1)\n"
   ]
  },
  {
   "cell_type": "code",
   "execution_count": 15,
   "id": "b1dc4d34",
   "metadata": {},
   "outputs": [],
   "source": [
    "# Calculate ds_train_classified for ROC\n",
    "ds_train_classified = ds_train.copy()\n",
    "pos_ind = np.where(lr.classes_ == ds_train.favorable_label)[0][0]\n",
    "\n",
    "ds_train_classified.scores = lr.predict_proba(X_train)[:, pos_ind].reshape(-1, 1)\n",
    "ds_train_classified.labels = lr.predict(X_train).reshape(-1, 1)\n"
   ]
  },
  {
   "attachments": {},
   "cell_type": "markdown",
   "id": "dc7811c1",
   "metadata": {},
   "source": [
    "### Confirm the model performance  \n",
    "#### (1) Measure the performance for classification\n",
    "Check the performance for classification using the above classification results.  "
   ]
  },
  {
   "cell_type": "code",
   "execution_count": 16,
   "id": "71f1958d",
   "metadata": {},
   "outputs": [],
   "source": [
    "df_acc = pd.DataFrame(columns=['Accuracy','Precision','Recall','F1 score'])\n"
   ]
  },
  {
   "cell_type": "code",
   "execution_count": 17,
   "id": "39b7d958",
   "metadata": {},
   "outputs": [],
   "source": [
    "from sklearn.metrics import accuracy_score, precision_score, recall_score, f1_score\n",
    "df_acc.loc['LR Model']=( accuracy_score(y_true=Y_test, y_pred=ds_test_classified.labels),\n",
    "                   precision_score(y_true=Y_test, y_pred=ds_test_classified.labels),\n",
    "                   recall_score(y_true=Y_test, y_pred=ds_test_classified.labels),\n",
    "                   f1_score(y_true=Y_test, y_pred=ds_test_classified.labels) )\n"
   ]
  },
  {
   "cell_type": "code",
   "execution_count": 18,
   "id": "85fcd4c0",
   "metadata": {},
   "outputs": [
    {
     "data": {
      "text/html": [
       "<div>\n",
       "<style scoped>\n",
       "    .dataframe tbody tr th:only-of-type {\n",
       "        vertical-align: middle;\n",
       "    }\n",
       "\n",
       "    .dataframe tbody tr th {\n",
       "        vertical-align: top;\n",
       "    }\n",
       "\n",
       "    .dataframe thead th {\n",
       "        text-align: right;\n",
       "    }\n",
       "</style>\n",
       "<table border=\"1\" class=\"dataframe\">\n",
       "  <thead>\n",
       "    <tr style=\"text-align: right;\">\n",
       "      <th></th>\n",
       "      <th>Accuracy</th>\n",
       "      <th>Precision</th>\n",
       "      <th>Recall</th>\n",
       "      <th>F1 score</th>\n",
       "    </tr>\n",
       "  </thead>\n",
       "  <tbody>\n",
       "    <tr>\n",
       "      <th>LR Model</th>\n",
       "      <td>0.848824</td>\n",
       "      <td>0.743994</td>\n",
       "      <td>0.608148</td>\n",
       "      <td>0.669247</td>\n",
       "    </tr>\n",
       "  </tbody>\n",
       "</table>\n",
       "</div>"
      ],
      "text/plain": [
       "          Accuracy  Precision    Recall  F1 score\n",
       "LR Model  0.848824   0.743994  0.608148  0.669247"
      ]
     },
     "execution_count": 18,
     "metadata": {},
     "output_type": "execute_result"
    }
   ],
   "source": [
    "df_acc\n"
   ]
  },
  {
   "attachments": {},
   "cell_type": "markdown",
   "id": "6761827e",
   "metadata": {},
   "source": [
    "* The model achieves enough accuracy since `Accuracy` is 84%."
   ]
  },
  {
   "attachments": {},
   "cell_type": "markdown",
   "id": "519268c9",
   "metadata": {},
   "source": [
    "#### (2) Measure disparate impact to see intersectional bias caused by the combination of two attributes, `race` and `sex`\n",
    "Check intersectional bias with disparate impact (DI).  "
   ]
  },
  {
   "cell_type": "code",
   "execution_count": 19,
   "id": "0007d28c",
   "metadata": {},
   "outputs": [
    {
     "data": {
      "text/html": [
       "<div>\n",
       "<style scoped>\n",
       "    .dataframe tbody tr th:only-of-type {\n",
       "        vertical-align: middle;\n",
       "    }\n",
       "\n",
       "    .dataframe tbody tr th {\n",
       "        vertical-align: top;\n",
       "    }\n",
       "\n",
       "    .dataframe thead th {\n",
       "        text-align: right;\n",
       "    }\n",
       "</style>\n",
       "<table border=\"1\" class=\"dataframe\">\n",
       "  <thead>\n",
       "    <tr style=\"text-align: right;\">\n",
       "      <th></th>\n",
       "      <th>LR Model</th>\n",
       "    </tr>\n",
       "  </thead>\n",
       "  <tbody>\n",
       "    <tr>\n",
       "      <th>race=1.0,sex=1.0</th>\n",
       "      <td>2.799815</td>\n",
       "    </tr>\n",
       "    <tr>\n",
       "      <th>race=1.0,sex=0.0</th>\n",
       "      <td>0.353253</td>\n",
       "    </tr>\n",
       "    <tr>\n",
       "      <th>race=0.0,sex=1.0</th>\n",
       "      <td>0.896454</td>\n",
       "    </tr>\n",
       "    <tr>\n",
       "      <th>race=0.0,sex=0.0</th>\n",
       "      <td>0.190610</td>\n",
       "    </tr>\n",
       "  </tbody>\n",
       "</table>\n",
       "</div>"
      ],
      "text/plain": [
       "                  LR Model\n",
       "race=1.0,sex=1.0  2.799815\n",
       "race=1.0,sex=0.0  0.353253\n",
       "race=0.0,sex=1.0  0.896454\n",
       "race=0.0,sex=0.0  0.190610"
      ]
     },
     "execution_count": 19,
     "metadata": {},
     "output_type": "execute_result"
    }
   ],
   "source": [
    "df_lr_di = calc_intersectionalbias(ds_test_classified, \"DispareteImpact\")\n",
    "df_lr_di = df_lr_di.rename(columns={\"DispareteImpact\": \"LR Model\"})\n",
    "df_lr_di\n"
   ]
  },
  {
   "attachments": {},
   "cell_type": "markdown",
   "id": "3ff75d14",
   "metadata": {},
   "source": [
    "* The model requires bias mitigation because DIs for groups other than race=0.0 and sex=1.0 are out of the range for fairness. \n",
    "\n",
    "   Supplement:  \n",
    "   In the recruitment field in the US, there is a law saying it is fair if the DI is 0.8 or more (and equal to or less than 1.25, the reciprocal of 0.8), so we consider 0.8 as a standard threshold of fairness.  "
   ]
  },
  {
   "attachments": {},
   "cell_type": "markdown",
   "id": "d220fe7d",
   "metadata": {},
   "source": [
    "## Run ISF\n",
    "Mitigate intersectional bias in this LR model's judgment.  \n",
    "You can use the ROC algorithm, a post-processing method, for it.Run the mitigation algorithm of ISF specifying \"RejectOptionClassification\" as a parameter.  "
   ]
  },
  {
   "cell_type": "code",
   "execution_count": 20,
   "id": "0ba48fe6",
   "metadata": {},
   "outputs": [],
   "source": [
    "ID = IntersectionalFairness('RejectOptionClassification', 'DemographicParity', \n",
    "                             accuracy_metric='F1', options={'accuracy_metric_name':'F1', 'metric_ub':0.2, 'metric_lb':-0.2})\n"
   ]
  },
  {
   "cell_type": "code",
   "execution_count": 21,
   "id": "2430417e",
   "metadata": {},
   "outputs": [
    {
     "name": "stderr",
     "output_type": "stream",
     "text": [
      "WARNING:root:[1.0] listed but not observed for feature race\n",
      "WARNING:root:[1.0] listed but not observed for feature sex\n",
      "WARNING:root:[0.0] listed but not observed for feature sex\n",
      "WARNING:root:[0.0] listed but not observed for feature race\n"
     ]
    }
   ],
   "source": [
    "# training\n",
    "ID.fit(ds_train, dataset_predicted=ds_train_classified)\n"
   ]
  },
  {
   "cell_type": "code",
   "execution_count": 22,
   "id": "f9c4cb64",
   "metadata": {},
   "outputs": [
    {
     "name": "stderr",
     "output_type": "stream",
     "text": [
      "WARNING:root:[1.0] listed but not observed for feature sex\n",
      "WARNING:root:[0.0] listed but not observed for feature sex\n",
      "WARNING:root:[1.0] listed but not observed for feature race\n",
      "WARNING:root:[0.0] listed but not observed for feature race\n"
     ]
    }
   ],
   "source": [
    "# predict\n",
    "ds_predicted = ID.predict(ds_test_classified)\n"
   ]
  },
  {
   "attachments": {},
   "cell_type": "markdown",
   "id": "8483bcc3",
   "metadata": {},
   "source": [
    "## Evaluation"
   ]
  },
  {
   "attachments": {},
   "cell_type": "markdown",
   "id": "16dee42f",
   "metadata": {},
   "source": [
    "### (1) Compare the raw LR model and the model mitigated by ISF  \n",
    "Measure and visualize DIs for intersectional bias to check the effect of ISF.  "
   ]
  },
  {
   "cell_type": "code",
   "execution_count": 23,
   "id": "fe18fbfa",
   "metadata": {},
   "outputs": [],
   "source": [
    "combattr_metrics_isf = check_metrics_combination_attribute(ds_test, ds_predicted)[['base_rate', 'selection_rate', 'Balanced_Accuracy']]\n"
   ]
  },
  {
   "cell_type": "code",
   "execution_count": 24,
   "id": "6a5b15b5",
   "metadata": {},
   "outputs": [
    {
     "data": {
      "image/png": "[encoded data removed]",
      "text/plain": [
       "<Figure size 600x200 with 4 Axes>"
      ]
     },
     "metadata": {},
     "output_type": "display_data"
    }
   ],
   "source": [
    "import seaborn as sns\n",
    "rcParams['figure.figsize'] = 6,2\n",
    "sns.set(font_scale = 0.7)\n",
    "plot_intersectionalbias_compare(ds_test_classified,\n",
    "                                ds_predicted,\n",
    "                                vmax=2, vmin=0, center=1,\n",
    "                                title={\"right\": \"LR Model\", \"left\": \"ISF(ROC is used)\"})\n"
   ]
  },
  {
   "attachments": {},
   "cell_type": "markdown",
   "id": "7162a5fb",
   "metadata": {},
   "source": [
    "* Compared to the left-hand quadrant for the LR model with no bias mitigation, DI in each subgroup gets closer to 1.0 in the right-hand quadrant for the model mitigated by ISF.  \n",
    "* This indicates that the judgment result of the model with ISF is closer to fair than that without ISF.  "
   ]
  },
  {
   "attachments": {},
   "cell_type": "markdown",
   "id": "a827905f",
   "metadata": {},
   "source": [
    "Next, ensure ISF does not degrade the accuracy of the model.  "
   ]
  },
  {
   "cell_type": "code",
   "execution_count": 25,
   "id": "f3ed6a81",
   "metadata": {},
   "outputs": [],
   "source": [
    "from sklearn.metrics import accuracy_score, precision_score, recall_score, f1_score\n",
    "df_acc.loc['ISF(ROC is used)']=( accuracy_score(y_true=Y_test, y_pred=ds_predicted.labels),\n",
    "                   precision_score(y_true=Y_test, y_pred=ds_predicted.labels),\n",
    "                   recall_score(y_true=Y_test, y_pred=ds_predicted.labels),\n",
    "                   f1_score(y_true=Y_test, y_pred=ds_predicted.labels) )\n"
   ]
  },
  {
   "cell_type": "code",
   "execution_count": 26,
   "id": "b1a5aa4d",
   "metadata": {},
   "outputs": [
    {
     "data": {
      "text/html": [
       "<div>\n",
       "<style scoped>\n",
       "    .dataframe tbody tr th:only-of-type {\n",
       "        vertical-align: middle;\n",
       "    }\n",
       "\n",
       "    .dataframe tbody tr th {\n",
       "        vertical-align: top;\n",
       "    }\n",
       "\n",
       "    .dataframe thead th {\n",
       "        text-align: right;\n",
       "    }\n",
       "</style>\n",
       "<table border=\"1\" class=\"dataframe\">\n",
       "  <thead>\n",
       "    <tr style=\"text-align: right;\">\n",
       "      <th></th>\n",
       "      <th>Accuracy</th>\n",
       "      <th>Precision</th>\n",
       "      <th>Recall</th>\n",
       "      <th>F1 score</th>\n",
       "    </tr>\n",
       "  </thead>\n",
       "  <tbody>\n",
       "    <tr>\n",
       "      <th>LR Model</th>\n",
       "      <td>0.848824</td>\n",
       "      <td>0.743994</td>\n",
       "      <td>0.608148</td>\n",
       "      <td>0.669247</td>\n",
       "    </tr>\n",
       "    <tr>\n",
       "      <th>ISF(ROC is used)</th>\n",
       "      <td>0.830618</td>\n",
       "      <td>0.693672</td>\n",
       "      <td>0.584701</td>\n",
       "      <td>0.634542</td>\n",
       "    </tr>\n",
       "  </tbody>\n",
       "</table>\n",
       "</div>"
      ],
      "text/plain": [
       "                  Accuracy  Precision    Recall  F1 score\n",
       "LR Model          0.848824   0.743994  0.608148  0.669247\n",
       "ISF(ROC is used)  0.830618   0.693672  0.584701  0.634542"
      ]
     },
     "execution_count": 26,
     "metadata": {},
     "output_type": "execute_result"
    }
   ],
   "source": [
    "df_acc\n"
   ]
  },
  {
   "attachments": {},
   "cell_type": "markdown",
   "id": "53b11079",
   "metadata": {},
   "source": [
    "* `Accuracy` before and after bias mitigation are almost the same.  \n",
    "* This indicates ISF can mitigate intersectional fairness with only minor accuracy degradation.  "
   ]
  },
  {
   "attachments": {},
   "cell_type": "markdown",
   "id": "85d3578c",
   "metadata": {},
   "source": [
    "### (2) Comparison of ROC and ISF (ROC is used)\n",
    "Now compare the effects between ordinal ROC and ISF-leveraged ROC.  \n",
    "Run an ordinal ROC under the same condition as the ISF-leveraged ROC.  "
   ]
  },
  {
   "cell_type": "code",
   "execution_count": 27,
   "id": "b91aa562",
   "metadata": {},
   "outputs": [],
   "source": [
    "from aif360.algorithms.postprocessing.reject_option_classification import RejectOptionClassification\n",
    "        \n",
    "ROC = RejectOptionClassification(\n",
    "            privileged_groups=[{'race':1,'sex':1}],\n",
    "            unprivileged_groups=[{'race':0,'sex':0},{'race':0,'sex':1},{'race':1,'sex':0}],\n",
    "            low_class_thresh=0.01, \n",
    "            high_class_thresh=0.99,\n",
    "            num_class_thresh=100, \n",
    "            num_ROC_margin=50,\n",
    "            metric_name='Statistical parity difference',\n",
    "            metric_ub=0.2,\n",
    "            metric_lb=-0.2,\n",
    "            accuracy_metric_name='Balanced Accuracy')\n"
   ]
  },
  {
   "cell_type": "code",
   "execution_count": 28,
   "id": "1ab6402a",
   "metadata": {},
   "outputs": [],
   "source": [
    "# training\n",
    "ROC.fit(ds_train, ds_train_classified)\n",
    "# predict\n",
    "ds_predicted_roc = ROC.predict(ds_test_classified)\n"
   ]
  },
  {
   "attachments": {},
   "cell_type": "markdown",
   "id": "d61f78e7",
   "metadata": {},
   "source": [
    "#### Check intersectional bias for ROC  "
   ]
  },
  {
   "cell_type": "code",
   "execution_count": 29,
   "id": "e12f9ac8",
   "metadata": {},
   "outputs": [
    {
     "data": {
      "text/html": [
       "<div>\n",
       "<style scoped>\n",
       "    .dataframe tbody tr th:only-of-type {\n",
       "        vertical-align: middle;\n",
       "    }\n",
       "\n",
       "    .dataframe tbody tr th {\n",
       "        vertical-align: top;\n",
       "    }\n",
       "\n",
       "    .dataframe thead th {\n",
       "        text-align: right;\n",
       "    }\n",
       "</style>\n",
       "<table border=\"1\" class=\"dataframe\">\n",
       "  <thead>\n",
       "    <tr style=\"text-align: right;\">\n",
       "      <th></th>\n",
       "      <th>LR Model</th>\n",
       "      <th>ROC</th>\n",
       "    </tr>\n",
       "  </thead>\n",
       "  <tbody>\n",
       "    <tr>\n",
       "      <th>race=1.0,sex=1.0</th>\n",
       "      <td>2.799815</td>\n",
       "      <td>1.754516</td>\n",
       "    </tr>\n",
       "    <tr>\n",
       "      <th>race=1.0,sex=0.0</th>\n",
       "      <td>0.353253</td>\n",
       "      <td>0.537457</td>\n",
       "    </tr>\n",
       "    <tr>\n",
       "      <th>race=0.0,sex=1.0</th>\n",
       "      <td>0.896454</td>\n",
       "      <td>1.264825</td>\n",
       "    </tr>\n",
       "    <tr>\n",
       "      <th>race=0.0,sex=0.0</th>\n",
       "      <td>0.190610</td>\n",
       "      <td>0.324453</td>\n",
       "    </tr>\n",
       "  </tbody>\n",
       "</table>\n",
       "</div>"
      ],
      "text/plain": [
       "                  LR Model       ROC\n",
       "race=1.0,sex=1.0  2.799815  1.754516\n",
       "race=1.0,sex=0.0  0.353253  0.537457\n",
       "race=0.0,sex=1.0  0.896454  1.264825\n",
       "race=0.0,sex=0.0  0.190610  0.324453"
      ]
     },
     "execution_count": 29,
     "metadata": {},
     "output_type": "execute_result"
    }
   ],
   "source": [
    "df_roc_di =calc_intersectionalbias(ds_predicted_roc, \"DispareteImpact\")\n",
    "df_roc_di = df_roc_di.rename(columns={\"DispareteImpact\": \"ROC\"})\n",
    "df_lr_di[\"ROC\"]=df_roc_di[\"ROC\"]\n",
    "df_lr_di\n"
   ]
  },
  {
   "attachments": {},
   "cell_type": "markdown",
   "id": "a55eca5b",
   "metadata": {},
   "source": [
    "* Since ROC does not support intersectional bias, DI values for groups are out of the fairness range though they tend to improve."
   ]
  },
  {
   "attachments": {},
   "cell_type": "markdown",
   "id": "1ee272aa",
   "metadata": {},
   "source": [
    "#### Compare DI values for `ROC` and `ISF (ROC is used)`\n",
    "Finally, compare DI values ordinal ROC and `ISF (ROC is used)` achieve.  "
   ]
  },
  {
   "cell_type": "code",
   "execution_count": 30,
   "id": "611ccd2b",
   "metadata": {},
   "outputs": [
    {
     "data": {
      "image/png": "[encoded data removed]",
      "text/plain": [
       "<Figure size 600x200 with 4 Axes>"
      ]
     },
     "metadata": {},
     "output_type": "display_data"
    }
   ],
   "source": [
    "plot_intersectionalbias_compare(ds_predicted_roc,\n",
    "                                ds_predicted,\n",
    "                                vmax=2, vmin=0, center=1,\n",
    "                                title={\"right\": \"RoC\", \"left\": \"ISF(used RoC)\"})\n"
   ]
  },
  {
   "attachments": {},
   "cell_type": "markdown",
   "id": "eb02bdcc",
   "metadata": {},
   "source": [
    "* Compared to `ROC` (an ordinal ROC; the left-hand quadrant), `ISF (ROC is used)` (ROC-leveraged ISF; the right-hand quadrant) achieves bias mitigation more.  \n",
    "* You have confirmed ISF helps an ordinal ROC mitigate intersectional bias.  "
   ]
  },
  {
   "attachments": {},
   "cell_type": "markdown",
   "id": "90fe261e",
   "metadata": {},
   "source": [
    "#### Compare accuracies for `ROC` and `ISF (ROC is used)`"
   ]
  },
  {
   "cell_type": "code",
   "execution_count": 31,
   "id": "9bcf7d12",
   "metadata": {},
   "outputs": [],
   "source": [
    "from sklearn.metrics import accuracy_score, precision_score, recall_score, f1_score\n",
    "df_acc.loc['ROC']=( accuracy_score(y_true=Y_test, y_pred=ds_predicted_roc.labels),\n",
    "                   precision_score(y_true=Y_test, y_pred=ds_predicted_roc.labels),\n",
    "                   recall_score(y_true=Y_test, y_pred=ds_predicted_roc.labels),\n",
    "                   f1_score(y_true=Y_test, y_pred=ds_predicted_roc.labels) )\n"
   ]
  },
  {
   "cell_type": "code",
   "execution_count": 32,
   "id": "b4dc8958",
   "metadata": {},
   "outputs": [
    {
     "data": {
      "text/html": [
       "<div>\n",
       "<style scoped>\n",
       "    .dataframe tbody tr th:only-of-type {\n",
       "        vertical-align: middle;\n",
       "    }\n",
       "\n",
       "    .dataframe tbody tr th {\n",
       "        vertical-align: top;\n",
       "    }\n",
       "\n",
       "    .dataframe thead th {\n",
       "        text-align: right;\n",
       "    }\n",
       "</style>\n",
       "<table border=\"1\" class=\"dataframe\">\n",
       "  <thead>\n",
       "    <tr style=\"text-align: right;\">\n",
       "      <th></th>\n",
       "      <th>Accuracy</th>\n",
       "      <th>Precision</th>\n",
       "      <th>Recall</th>\n",
       "      <th>F1 score</th>\n",
       "    </tr>\n",
       "  </thead>\n",
       "  <tbody>\n",
       "    <tr>\n",
       "      <th>LR Model</th>\n",
       "      <td>0.848824</td>\n",
       "      <td>0.743994</td>\n",
       "      <td>0.608148</td>\n",
       "      <td>0.669247</td>\n",
       "    </tr>\n",
       "    <tr>\n",
       "      <th>ISF(ROC is used)</th>\n",
       "      <td>0.830618</td>\n",
       "      <td>0.693672</td>\n",
       "      <td>0.584701</td>\n",
       "      <td>0.634542</td>\n",
       "    </tr>\n",
       "    <tr>\n",
       "      <th>ROC</th>\n",
       "      <td>0.805852</td>\n",
       "      <td>0.578427</td>\n",
       "      <td>0.840856</td>\n",
       "      <td>0.685380</td>\n",
       "    </tr>\n",
       "  </tbody>\n",
       "</table>\n",
       "</div>"
      ],
      "text/plain": [
       "                  Accuracy  Precision    Recall  F1 score\n",
       "LR Model          0.848824   0.743994  0.608148  0.669247\n",
       "ISF(ROC is used)  0.830618   0.693672  0.584701  0.634542\n",
       "ROC               0.805852   0.578427  0.840856  0.685380"
      ]
     },
     "execution_count": 32,
     "metadata": {},
     "output_type": "execute_result"
    }
   ],
   "source": [
    "df_acc\n"
   ]
  },
  {
   "attachments": {},
   "cell_type": "markdown",
   "id": "ec347540",
   "metadata": {},
   "source": [
    "* Accuracies for `ISF (ROC is used)` and `ROC` are almost the same.  \n",
    "* This indicates extending RoC with ISF does not cause significant accuracy degradation.  "
   ]
  },
  {
   "cell_type": "code",
   "execution_count": null,
   "id": "8f0ac44a",
   "metadata": {},
   "outputs": [],
   "source": []
  }
 ],
 "metadata": {
  "kernelspec": {
   "display_name": "Python 3 (ipykernel)",
   "language": "python",
   "name": "python3"
  },
  "language_info": {
   "codemirror_mode": {
    "name": "ipython",
    "version": 3
   },
   "file_extension": ".py",
   "mimetype": "text/x-python",
   "name": "python",
   "nbconvert_exporter": "python",
   "pygments_lexer": "ipython3",
   "version": "3.7.17"
  }
 },
 "nbformat": 4,
 "nbformat_minor": 5
}
