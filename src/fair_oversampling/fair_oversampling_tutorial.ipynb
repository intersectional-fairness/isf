{
 "cells": [
  {
   "cell_type": "markdown",
   "id": "efe2671c-3dd3-4f3f-96ac-d714de4497f5",
   "metadata": {},
   "source": [
    "#### License"
   ]
  },
  {
   "cell_type": "code",
   "execution_count": null,
   "id": "71a98bf5-4315-4b1d-920e-09c63708c32f",
   "metadata": {},
   "outputs": [],
   "source": [
    "# SPDX-License-Identifier: Apache-2.0\n",
    "#\n",
    "# Copyright 2024 Fujitsu Limited\n",
    "#\n",
    "# Licensed under the Apache License, Version 2.0 (the \"License\");\n",
    "# you may not use this file except in compliance with the License.\n",
    "# You may obtain a copy of the License at\n",
    "#\n",
    "#     http://www.apache.org/licenses/LICENSE-2.0\n",
    "#\n",
    "# Unless required by applicable law or agreed to in writing, software\n",
    "# distributed under the License is distributed on an \"AS IS\" BASIS,\n",
    "# WITHOUT WARRANTIES OR CONDITIONS OF ANY KIND, either express or implied.\n",
    "# See the License for the specific language governing permissions and\n",
    "# limitations under the License."
   ]
  },
  {
   "cell_type": "markdown",
   "id": "fdcfeb38-b51c-4c94-869f-9aefe2181a2b",
   "metadata": {},
   "source": [
    "## User guide of FairOversampling"
   ]
  },
  {
   "cell_type": "markdown",
   "id": "2a1f1990-c894-4d3c-878a-80dc8ff55a06",
   "metadata": {},
   "source": [
    "#### Introduction"
   ]
  },
  {
   "cell_type": "markdown",
   "id": "3b3650e5-bc0f-4bff-86b5-06c7be8f2ab7",
   "metadata": {},
   "source": [
    "The FairOversampling technique is based on the following paper\n",
    "\n",
    "Author: Ruysuke Sonoda<br>\n",
    "Title: Fair oversampling technique using heterogeneous clusters<br>\n",
    "Affiliation: Fujitsu Ltd., 4-1-1 Kamikodanaka, Nakahara-ku, Kawasaki-shi, 211-8588, Kanagawa, Japan\n",
    "\n",
    "and can be downloaded from<br>\n",
    "https://www.sciencedirect.com/science/article/abs/pii/S0020025523006448<br>\n",
    "(see also https://arxiv.org/abs/2305.13875).\n",
    "\n",
    "\n",
    "The basic idea of the proposed algorithm is the following.\n",
    "\n",
    "Class imbalance and group (e.g., race, gender, and age) imbalance are acknowledged\n",
    "as two reasons in data that hinder the trade-off between fairness and utility\n",
    "of machine learning classifiers. Existing techniques have jointly addressed\n",
    "issues regarding class imbalance and group imbalance by proposing fair oversampling\n",
    "techniques. Unlike the common oversampling techniques, which only\n",
    "address class imbalance, fair oversampling techniques significantly improve the\n",
    "abovementioned trade-off, as they can also address group imbalance. However,\n",
    "if the size of the original clusters is too small, these techniques may cause classifier\n",
    "overfitting. To address this problem, we herein develop a fair oversampling\n",
    "technique using data from heterogeneous clusters. The proposed technique generates\n",
    "synthetic data that have class-mix features or group-mix features to make\n",
    "classifiers robust to overfitting. Moreover, we develop an interpolation method\n",
    "that can enhance the validity of generated synthetic data by considering the\n",
    "original cluster distribution and data noise.\n",
    "\n",
    "In the following we demonstrate the use of the proposed Fair Oversampling algorithm."
   ]
  },
  {
   "cell_type": "markdown",
   "id": "e838be3e-2df5-4442-affe-6b65e964df6d",
   "metadata": {},
   "source": [
    "#### Imports"
   ]
  },
  {
   "cell_type": "markdown",
   "id": "99b0f108-f436-4279-b520-53e923a006d7",
   "metadata": {},
   "source": [
    "Necessary imports"
   ]
  },
  {
   "cell_type": "code",
   "execution_count": 1,
   "id": "9bc81215-915a-4db7-b0e3-06a8d2d22bd2",
   "metadata": {
    "scrolled": true,
    "tags": []
   },
   "outputs": [],
   "source": [
    "import pandas as pd\n",
    "import numpy as np\n",
    "import matplotlib.pyplot as plt\n",
    "from itertools import product\n",
    "\n",
    "import fairoversampling as fo"
   ]
  },
  {
   "cell_type": "markdown",
   "id": "5008616f-a1dd-4dfa-82f9-346fa2c0f63e",
   "metadata": {},
   "source": [
    "#### Generate an imbalanced dataset"
   ]
  },
  {
   "cell_type": "markdown",
   "id": "78de41ba-2f8d-4900-8722-07f25f90cab8",
   "metadata": {},
   "source": [
    "For this tutorial we define our own artificial dataset with unfair feature distributions in 2-dimensional space."
   ]
  },
  {
   "cell_type": "code",
   "execution_count": 2,
   "id": "71af5ef4-b483-4c3d-ab84-3c1b2dac7a9e",
   "metadata": {},
   "outputs": [],
   "source": [
    "def simulated(n_samples = 1000, pos = .3, neg = .7, pro = .2, unp = .8,):    \n",
    "    # assign label\n",
    "    num_pos = int(n_samples * pos)\n",
    "    num_neg = int(n_samples * neg)\n",
    "    if num_pos + num_neg != n_samples:\n",
    "        num_pos = n_samples - num_neg\n",
    "    labels = np.zeros([n_samples, 1])\n",
    "    labels[:num_pos] = 1\n",
    "\n",
    "    # positive and unprotected sample\n",
    "    pos_unp = np.random.multivariate_normal(\n",
    "        [-4.0, -2], [[1, 0], [0, 1]], size=(num_pos)\n",
    "    )\n",
    "    # positive and protected sample\n",
    "    pos_pro = np.random.multivariate_normal(\n",
    "        [1.5, 0.], [[0.5*3, 0], [0, 0.5*3]], size=(num_pos)\n",
    "    )\n",
    "    # negative and unprotected sample\n",
    "    neg_unp = np.random.multivariate_normal(\n",
    "        [-1.5, 2], [[1, 0], [0, 1]], size=(num_neg)\n",
    "    )\n",
    "    # negative and protedted sample\n",
    "    neg_pro = np.random.multivariate_normal(\n",
    "        [0.5, 2], [[1, 0], [0, 1]], size=(num_neg)\n",
    "    )\n",
    "    # generate positive samples\n",
    "    pos_groups = (np.random.rand(num_pos) <= pro) * 1\n",
    "    pos_mask = pos_groups.reshape([len(pos_groups), 1])\n",
    "    pos_samples = (1 - pos_mask) * pos_unp + pos_mask * pos_pro\n",
    "    \n",
    "    # generate negative samples\n",
    "    neg_groups = (np.random.rand(num_neg) <= pro) * 1\n",
    "    neg_mask = neg_groups.reshape([len(neg_groups), 1])\n",
    "    neg_samples = (1 - neg_mask) * neg_unp + neg_mask * neg_pro\n",
    "    # create features\n",
    "    features = np.concatenate([pos_samples, neg_samples], axis = 0)\n",
    "    groups = np.concatenate([pos_groups, neg_groups])\n",
    "    \n",
    "    \n",
    "    dataset_orig = pd.DataFrame(features, columns = [\"0\", \"1\"])\n",
    "    dataset_orig = dataset_orig.assign(sex = groups)\n",
    "    dataset_orig = dataset_orig.assign(label = labels)\n",
    "    X_orig, y_orig = dataset_orig.drop(\"label\", axis = 1), dataset_orig[\"label\"]\n",
    "    \n",
    "    return dataset_orig, X_orig, y_orig"
   ]
  },
  {
   "cell_type": "code",
   "execution_count": 3,
   "id": "c4d26fda-66d3-45ed-ac8a-e3ebb07f38a9",
   "metadata": {},
   "outputs": [],
   "source": [
    "#generate a dataset of 2000 instances and one sensitive attribute\n",
    "pos, pro = .2, .1\n",
    "neg, unp = 1-pos, 1-pro\n",
    "dataset_orig, X_orig, y_orig = simulated(2000, pos, neg, pro, unp)"
   ]
  },
  {
   "cell_type": "code",
   "execution_count": 4,
   "id": "61695b90-5d5c-4ba6-a336-105383034cc7",
   "metadata": {},
   "outputs": [
    {
     "data": {
      "text/html": [
       "<div>\n",
       "<style scoped>\n",
       "    .dataframe tbody tr th:only-of-type {\n",
       "        vertical-align: middle;\n",
       "    }\n",
       "\n",
       "    .dataframe tbody tr th {\n",
       "        vertical-align: top;\n",
       "    }\n",
       "\n",
       "    .dataframe thead th {\n",
       "        text-align: right;\n",
       "    }\n",
       "</style>\n",
       "<table border=\"1\" class=\"dataframe\">\n",
       "  <thead>\n",
       "    <tr style=\"text-align: right;\">\n",
       "      <th></th>\n",
       "      <th>0</th>\n",
       "      <th>1</th>\n",
       "      <th>sex</th>\n",
       "      <th>label</th>\n",
       "    </tr>\n",
       "  </thead>\n",
       "  <tbody>\n",
       "    <tr>\n",
       "      <th>0</th>\n",
       "      <td>-3.276108</td>\n",
       "      <td>-2.046063</td>\n",
       "      <td>0</td>\n",
       "      <td>1.0</td>\n",
       "    </tr>\n",
       "    <tr>\n",
       "      <th>1</th>\n",
       "      <td>-6.512403</td>\n",
       "      <td>-2.310317</td>\n",
       "      <td>0</td>\n",
       "      <td>1.0</td>\n",
       "    </tr>\n",
       "    <tr>\n",
       "      <th>2</th>\n",
       "      <td>-1.963398</td>\n",
       "      <td>-2.998658</td>\n",
       "      <td>0</td>\n",
       "      <td>1.0</td>\n",
       "    </tr>\n",
       "    <tr>\n",
       "      <th>3</th>\n",
       "      <td>-3.480938</td>\n",
       "      <td>-1.705945</td>\n",
       "      <td>0</td>\n",
       "      <td>1.0</td>\n",
       "    </tr>\n",
       "    <tr>\n",
       "      <th>4</th>\n",
       "      <td>-3.553759</td>\n",
       "      <td>-2.057061</td>\n",
       "      <td>0</td>\n",
       "      <td>1.0</td>\n",
       "    </tr>\n",
       "    <tr>\n",
       "      <th>...</th>\n",
       "      <td>...</td>\n",
       "      <td>...</td>\n",
       "      <td>...</td>\n",
       "      <td>...</td>\n",
       "    </tr>\n",
       "    <tr>\n",
       "      <th>1995</th>\n",
       "      <td>-1.337237</td>\n",
       "      <td>1.242702</td>\n",
       "      <td>0</td>\n",
       "      <td>0.0</td>\n",
       "    </tr>\n",
       "    <tr>\n",
       "      <th>1996</th>\n",
       "      <td>-0.903663</td>\n",
       "      <td>1.790870</td>\n",
       "      <td>0</td>\n",
       "      <td>0.0</td>\n",
       "    </tr>\n",
       "    <tr>\n",
       "      <th>1997</th>\n",
       "      <td>0.347076</td>\n",
       "      <td>-0.211850</td>\n",
       "      <td>1</td>\n",
       "      <td>0.0</td>\n",
       "    </tr>\n",
       "    <tr>\n",
       "      <th>1998</th>\n",
       "      <td>-2.037420</td>\n",
       "      <td>3.023925</td>\n",
       "      <td>0</td>\n",
       "      <td>0.0</td>\n",
       "    </tr>\n",
       "    <tr>\n",
       "      <th>1999</th>\n",
       "      <td>-2.498917</td>\n",
       "      <td>2.957230</td>\n",
       "      <td>0</td>\n",
       "      <td>0.0</td>\n",
       "    </tr>\n",
       "  </tbody>\n",
       "</table>\n",
       "<p>2000 rows × 4 columns</p>\n",
       "</div>"
      ],
      "text/plain": [
       "             0         1  sex  label\n",
       "0    -3.276108 -2.046063    0    1.0\n",
       "1    -6.512403 -2.310317    0    1.0\n",
       "2    -1.963398 -2.998658    0    1.0\n",
       "3    -3.480938 -1.705945    0    1.0\n",
       "4    -3.553759 -2.057061    0    1.0\n",
       "...        ...       ...  ...    ...\n",
       "1995 -1.337237  1.242702    0    0.0\n",
       "1996 -0.903663  1.790870    0    0.0\n",
       "1997  0.347076 -0.211850    1    0.0\n",
       "1998 -2.037420  3.023925    0    0.0\n",
       "1999 -2.498917  2.957230    0    0.0\n",
       "\n",
       "[2000 rows x 4 columns]"
      ]
     },
     "execution_count": 4,
     "metadata": {},
     "output_type": "execute_result"
    }
   ],
   "source": [
    "#examine a sample of the generated dataset\n",
    "dataset_orig"
   ]
  },
  {
   "cell_type": "code",
   "execution_count": 5,
   "id": "e4e1340b-f62d-459a-b214-54017bb66066",
   "metadata": {},
   "outputs": [],
   "source": [
    "#function that enables us to plot our dataset\n",
    "def plot_data(X_orig, y_orig):\n",
    "    color = [\"blue\",\"red\"]\n",
    "    marker = [\"_\", \"+\"]\n",
    "    for l in [0, 1]:\n",
    "        for g in [0,1]:\n",
    "            X = X_orig[(y_orig == l) * (X_orig[\"sex\"] == g)]\n",
    "            plt.scatter(X[\"0\"], X[\"1\"], color = color[l], marker = marker[g], label=f\"group{g}_label{l}\")\n",
    "    plt.legend(bbox_to_anchor=(1.05, 1.0), loc=\"upper left\")\n",
    "    plt.show()"
   ]
  },
  {
   "cell_type": "code",
   "execution_count": 6,
   "id": "92aeac2f-bea3-4e23-8d2a-bebb7072acf8",
   "metadata": {},
   "outputs": [
    {
     "data": {
      "image/png": "[encoded data removed]",
      "text/plain": [
       "<Figure size 640x480 with 1 Axes>"
      ]
     },
     "metadata": {},
     "output_type": "display_data"
    }
   ],
   "source": [
    "#plot dataset\n",
    "plot_data(X_orig, y_orig)"
   ]
  },
  {
   "cell_type": "markdown",
   "id": "098c25a5-416d-4c51-b914-e6544e1b9a89",
   "metadata": {},
   "source": [
    "#### Fair Oversampling"
   ]
  },
  {
   "cell_type": "code",
   "execution_count": 7,
   "id": "b4dff702-30f0-4d21-b856-6fe9ec73e6e9",
   "metadata": {},
   "outputs": [],
   "source": [
    "#function to create the intersectional groups\n",
    "def convert_intersectional_group(X, protected_attributes = [\"race\", \"sex\"]):\n",
    "    num_G = len(protected_attributes)\n",
    "    if num_G < 2:\n",
    "        return X[protected_attributes].values.reshape(-1)\n",
    "    \n",
    "    intersectional_group = np.zeros(len(X))\n",
    "    A = [0,1]\n",
    "    i = 0\n",
    "    for a in list(product(A,repeat=num_G)):\n",
    "        boolean = [X[protected_attributes[g]] == a[g] for g in range(num_G)]\n",
    "        intersectional_group[np.prod(boolean, axis = 0, dtype = bool)] = i\n",
    "        i += 1\n",
    "    return intersectional_group"
   ]
  },
  {
   "cell_type": "code",
   "execution_count": 8,
   "id": "bbd1f5c0-74cc-4f5b-beb6-9358e693ea99",
   "metadata": {},
   "outputs": [
    {
     "data": {
      "text/plain": [
       "array([0, 0, 0, ..., 1, 0, 0])"
      ]
     },
     "execution_count": 8,
     "metadata": {},
     "output_type": "execute_result"
    }
   ],
   "source": [
    "#in our case we only have one protected attribute, therefore the generated\n",
    "#intersectional group A matches the column 'sex' of X_orig\n",
    "A = convert_intersectional_group(X_orig, protected_attributes=[\"sex\"])\n",
    "A"
   ]
  },
  {
   "cell_type": "code",
   "execution_count": 9,
   "id": "b97fc47a-67b2-41da-93b7-7531f0a92c95",
   "metadata": {},
   "outputs": [
    {
     "data": {
      "text/plain": [
       "(array([[-3.27610826, -2.04606295,  0.        ],\n",
       "        [-6.51240301, -2.3103168 ,  0.        ],\n",
       "        [-1.96339786, -2.9986577 ,  0.        ],\n",
       "        ...,\n",
       "        [-0.09129228, -1.42135572,  1.        ],\n",
       "        [ 0.35008973,  0.14042437,  1.        ],\n",
       "        [ 2.97569728,  0.71844935,  1.        ]]),\n",
       " array([1., 1., 1., ..., 1., 1., 1.]))"
      ]
     },
     "execution_count": 9,
     "metadata": {},
     "output_type": "execute_result"
    }
   ],
   "source": [
    "#we oversample\n",
    "model = fo.FairOverSampler(alpha=1, k=5, random_state=0)\n",
    "dataset_final = model.fit_resample(X_orig, y_orig, A)\n",
    "dataset_final"
   ]
  },
  {
   "cell_type": "code",
   "execution_count": null,
   "id": "1ceb9085-1cba-4bd0-9f51-d9d151036156",
   "metadata": {},
   "outputs": [],
   "source": []
  }
 ],
 "metadata": {
  "kernelspec": {
   "display_name": "Python 3 (ipykernel)",
   "language": "python",
   "name": "python3"
  },
  "language_info": {
   "codemirror_mode": {
    "name": "ipython",
    "version": 3
   },
   "file_extension": ".py",
   "mimetype": "text/x-python",
   "name": "python",
   "nbconvert_exporter": "python",
   "pygments_lexer": "ipython3",
   "version": "3.10.12"
  },
  "toc-autonumbering": false,
  "toc-showcode": false,
  "toc-showmarkdowntxt": false,
  "toc-showtags": false
 },
 "nbformat": 4,
 "nbformat_minor": 5
}
